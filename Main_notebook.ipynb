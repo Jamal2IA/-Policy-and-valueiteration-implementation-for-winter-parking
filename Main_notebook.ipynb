{
 "cells": [
  {
   "cell_type": "code",
   "execution_count": 11,
   "id": "925f5ffd",
   "metadata": {
    "scrolled": true
   },
   "outputs": [],
   "source": [
    " \n",
    "from policy_iteration  import *\n",
    "from value_iteration import * \n",
    "from game_utils import * \n"
   ]
  },
  {
   "cell_type": "markdown",
   "id": "ec26ebe1",
   "metadata": {},
   "source": [
    "### Value iteration applied on winter parking"
   ]
  },
  {
   "cell_type": "code",
   "execution_count": 12,
   "id": "1f4ac220",
   "metadata": {},
   "outputs": [
    {
     "data": {
      "text/plain": [
       "array([[2., 2., 2., 1.],\n",
       "       [1., 1., 0., 0.],\n",
       "       [1., 0., 0., 3.]])"
      ]
     },
     "execution_count": 12,
     "metadata": {},
     "output_type": "execute_result"
    }
   ],
   "source": [
    "V,policy_viter = value_iteration(L,0.9,1000)\n",
    "policy_viter"
   ]
  },
  {
   "cell_type": "markdown",
   "id": "9dde3099",
   "metadata": {},
   "source": [
    "We get the best moves to do in each position"
   ]
  },
  {
   "cell_type": "code",
   "execution_count": 13,
   "id": "8fda496a",
   "metadata": {},
   "outputs": [
    {
     "data": {
      "text/plain": [
       "[['right', 'right', 'right', 'up'],\n",
       " ['up', 'up', 'left', 'left'],\n",
       " ['up', 'left', 'left', 'down']]"
      ]
     },
     "execution_count": 13,
     "metadata": {},
     "output_type": "execute_result"
    }
   ],
   "source": [
    "politique_string(policy_viter)"
   ]
  },
  {
   "cell_type": "code",
   "execution_count": 14,
   "id": "25d92164",
   "metadata": {},
   "outputs": [
    {
     "data": {
      "text/plain": [
       "array([[  5.46998279,   6.3130865 ,   7.18990407,   8.66890193],\n",
       "       [  4.80291171,   5.37888765,   3.34670351, -96.67281069],\n",
       "       [  4.16148969,   3.65399095,   3.22206242,   1.52624009]])"
      ]
     },
     "execution_count": 14,
     "metadata": {},
     "output_type": "execute_result"
    }
   ],
   "source": [
    "evaluation_policy(L,policy_viter,0.9,1000)"
   ]
  },
  {
   "cell_type": "markdown",
   "id": "f039350d",
   "metadata": {},
   "source": [
    "### policy iteration applied on winter parking"
   ]
  },
  {
   "cell_type": "code",
   "execution_count": 15,
   "id": "78cf4f63",
   "metadata": {},
   "outputs": [],
   "source": [
    "policy_piter = policy_iteration(L,0.9,1000)"
   ]
  },
  {
   "cell_type": "code",
   "execution_count": 16,
   "id": "7bb8f160",
   "metadata": {},
   "outputs": [
    {
     "data": {
      "text/plain": [
       "array([[  0.        ,   0.        ,   7.02966386,   8.59299867],\n",
       "       [  0.        ,   0.1       ,   2.33372303, -97.53650984],\n",
       "       [  0.        ,   0.        ,   0.23080777,   0.10933   ]])"
      ]
     },
     "execution_count": 16,
     "metadata": {},
     "output_type": "execute_result"
    }
   ],
   "source": [
    "evaluation_policy(L,policy_piter,0.9,1000)"
   ]
  },
  {
   "cell_type": "markdown",
   "id": "c9120f55",
   "metadata": {},
   "source": [
    "### Winter parking implementation"
   ]
  },
  {
   "cell_type": "code",
   "execution_count": null,
   "id": "5abafb93",
   "metadata": {},
   "outputs": [],
   "source": [
    "start=[0,0]\n",
    "score_ini=0\n",
    "Player ={\"position\":start , \"score\":score_ini}\n",
    "\n",
    "print(\"Start is \",start , \"\\n\")\n",
    "print(\"Possible direction are left , right , down , up\")\n",
    "\n",
    "while 1 :\n",
    "    direction = input(\"Enter your direction: \")\n",
    "    Player=move_proba(direction,Player)\n",
    "    print(Player)\n",
    "    print(L)"
   ]
  }
 ],
 "metadata": {
  "kernelspec": {
   "display_name": "Python 3 (ipykernel)",
   "language": "python",
   "name": "python3"
  },
  "language_info": {
   "codemirror_mode": {
    "name": "ipython",
    "version": 3
   },
   "file_extension": ".py",
   "mimetype": "text/x-python",
   "name": "python",
   "nbconvert_exporter": "python",
   "pygments_lexer": "ipython3",
   "version": "3.9.7"
  },
  "toc": {
   "base_numbering": 1,
   "nav_menu": {},
   "number_sections": true,
   "sideBar": true,
   "skip_h1_title": false,
   "title_cell": "Table of Contents",
   "title_sidebar": "Contents",
   "toc_cell": false,
   "toc_position": {},
   "toc_section_display": true,
   "toc_window_display": false
  }
 },
 "nbformat": 4,
 "nbformat_minor": 5
}
